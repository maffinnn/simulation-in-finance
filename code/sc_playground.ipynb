{
 "cells": [
  {
   "cell_type": "code",
   "execution_count": null,
   "id": "cf4e6ef5",
   "metadata": {},
   "outputs": [],
   "source": [
    "import pandas as pd\n",
    "import numpy as np\n",
    "import matplotlib.pyplot as plt\n",
    "import sc.constants as cs\n",
    "from sc import payoff as po\n",
    "from yq.scripts import simulation as yqsm\n",
    "\n",
    "print(pd.__version__)"
   ]
  },
  {
   "cell_type": "code",
   "execution_count": null,
   "metadata": {},
   "outputs": [],
   "source": [
    "paths_arr = yqsm.read_sim_data('gbm/archive', '20231111_195045_022812', pd.Timestamp('2023-08-14'), pd.Timestamp('2023-08-15'))\n",
    "print(paths_arr)"
   ]
  },
  {
   "cell_type": "code",
   "execution_count": null,
   "id": "14e474b4",
   "metadata": {},
   "outputs": [],
   "source": [
    "#prep for multipath\n",
    "\n",
    "df_sim_array_14 = []\n",
    "for df in paths_arr[0]:\n",
    "    df_sim_array_14.append(df.rename(columns={'LONN.SW': 'LONN.SE', 'SIKA.SW': 'SIKA.SE'}))\n",
    "\n",
    "df_sim_array_15 = []\n",
    "for df in paths_arr[1]:\n",
    "    df_sim_array_15.append(df.rename(columns={'LONN.SW': 'LONN.SE', 'SIKA.SW': 'SIKA.SE'}))"
   ]
  },
  {
   "cell_type": "code",
   "execution_count": null,
   "id": "d73234f6",
   "metadata": {},
   "outputs": [],
   "source": [
    "prices_14 = po.pricing_multiple(df_sim_array_14)\n",
    "print(sum(prices_14) / len(prices_14))\n",
    "\n",
    "prices_15 = po.pricing_multiple(df_sim_array_15)\n",
    "print(prices_15)\n",
    "print(sum(prices_15) / len(prices_15))"
   ]
  },
  {
   "cell_type": "code",
   "execution_count": null,
   "metadata": {},
   "outputs": [],
   "source": [
    "# from pathlib import Path\n",
    "# from yq.utils import path as yq_path\n",
    "# import os\n",
    "# paths_arr = yqsm.read_sim_data('gbm', '20231111_195045_022812', pd.Timestamp('2023-08-09'), pd.Timestamp('2023-08-15'))\n",
    "# df_sim = paths_arr[0][0]\n",
    "\n",
    "# fig, ax = plt.subplots(figsize=(10,6))\n",
    "\n",
    "# hist_data = po.get_historical_assets_all()\n",
    "# hist_df = hist_data[(hist_data.index >= cs.INITIAL_FIXING_DATE) \n",
    "#                            & (hist_data.index <= cs.FINAL_FIXING_DATE)]\n",
    "# for asset in cs.ASSET_NAMES:\n",
    "#     ax.plot(hist_df.index, hist_df[asset], alpha=0.5, label=asset)\n",
    "# for col in df_sim.columns:\n",
    "#     ax.plot(df_sim.index, df_sim[col], alpha=0.5, label=col)\n",
    "\n",
    "\n",
    "# title_str = f\"PPD: \"\n",
    "# plt.title(title_str)\n",
    "# plt.legend(loc='upper right')\n",
    "# plt.tight_layout()\n",
    "# stor_dir = yq_path.get_plots_path(Path(os.getcwd()).parent)                     \n",
    "# stor_dir.mkdir(parents=True, exist_ok=True)\n",
    "# file_path = stor_dir.joinpath(f'test.png')\n",
    "# plt.savefig(file_path, bbox_inches='tight')"
   ]
  },
  {
   "cell_type": "code",
   "execution_count": null,
   "id": "cc4b6ebf",
   "metadata": {},
   "outputs": [],
   "source": [
    "df_plot = df_sim_array_15[2].copy(deep = True)\n",
    "print(po.payouts(df_plot, barrierHit = False))\n",
    "for asset in cs.ASSET_NAMES:\n",
    "    df_plot[asset] = df_plot[asset] / cs.INITIAL_LEVELS[asset]\n",
    "plt.figure(figsize = (15, 8))\n",
    "plt.plot(df_plot)\n",
    "plt.axhline(y=1, c = \"black\", alpha = 0.5)\n",
    "plt.axhline(y = 0.6, c = \"red\", alpha = 0.5)\n",
    "plt.axvline(x = cs.FINAL_FIXING_DATE, c = \"darkgreen\")\n",
    "for date in cs.EARLY_REDEMPTION_OBSERVATION_DATES:\n",
    "    plt.axvline(x = date, c = \"green\", alpha = 0.5)\n",
    "\n"
   ]
  },
  {
   "cell_type": "code",
   "execution_count": null,
   "metadata": {},
   "outputs": [],
   "source": [
    "#Entire process\n",
    "\n",
    "first_date = pd.Timestamp('2023-08-09')\n",
    "last_date = pd.Timestamp('2023-11-09')\n",
    "\n",
    "#load simulated paths from csvs\n",
    "total_data = yqsm.read_sim_data('gbm/archive', '20231111_195045_022812', first_date, last_date)\n",
    "\n",
    "est_price = []\n",
    "for single_day in total_data:\n",
    "    #rename columns\n",
    "    df_sim_array = []\n",
    "    for df in single_day:\n",
    "        df_sim_array.append(df.rename(columns={'LONN.SW': 'LONN.SE', 'SIKA.SW': 'SIKA.SE'}))\n",
    "    \n",
    "    prices = po.pricing_multiple(df_sim_array)\n",
    "    est_price.append(sum(prices) / len(prices))\n",
    "print(est_price)\n",
    "\n",
    "\n"
   ]
  },
  {
   "cell_type": "code",
   "execution_count": null,
   "metadata": {},
   "outputs": [],
   "source": [
    "df_product = po.get_product_price(pd.Timestamp('2023-11-09'))\n",
    "df_product = df_product.loc[first_date : last_date]\n",
    "df_product['Est_Price'] = est_price\n",
    "\n",
    "plt.plot(df_product)"
   ]
  }
 ],
 "metadata": {
  "kernelspec": {
   "display_name": "Python 3 (ipykernel)",
   "language": "python",
   "name": "python3"
  },
  "language_info": {
   "codemirror_mode": {
    "name": "ipython",
    "version": 3
   },
   "file_extension": ".py",
   "mimetype": "text/x-python",
   "name": "python",
   "nbconvert_exporter": "python",
   "pygments_lexer": "ipython3",
   "version": "3.11.3"
  }
 },
 "nbformat": 4,
 "nbformat_minor": 5
}
