{
 "cells": [
  {
   "cell_type": "code",
   "execution_count": null,
   "id": "cf4e6ef5",
   "metadata": {},
   "outputs": [],
   "source": [
    "import pandas as pd\n",
    "import numpy as np\n",
    "import matplotlib.pyplot as plt\n",
    "import sc.constants as cs\n",
    "from sc import payoff as po\n",
    "from yq.scripts import simulation as yqsm\n",
    "\n",
    "print(pd.__version__)"
   ]
  },
  {
   "cell_type": "code",
   "execution_count": null,
   "metadata": {},
   "outputs": [],
   "source": [
    "paths_arr = yqsm.read_sim_data('heston', '20231114_025704_252_0.5', pd.Timestamp('2023-08-14'), pd.Timestamp('2023-08-15'))\n",
    "print(paths_arr)"
   ]
  },
  {
   "cell_type": "code",
   "execution_count": null,
   "id": "cc4b6ebf",
   "metadata": {},
   "outputs": [],
   "source": [
    "df_plot = paths_arr[0][5].copy(deep = True)\n",
    "print(po.payouts(df_plot, barrierHit = False))\n",
    "for asset in cs.ASSET_NAMES:\n",
    "    df_plot[asset] = df_plot[asset] / cs.INITIAL_LEVELS[asset]\n",
    "plt.figure(figsize = (15, 8))\n",
    "plt.plot(df_plot)\n",
    "plt.axhline(y=1, c = \"black\", alpha = 0.5)\n",
    "plt.axhline(y = 0.6, c = \"red\", alpha = 0.5)\n",
    "plt.axvline(x = cs.FINAL_FIXING_DATE, c = \"darkgreen\")\n",
    "for date in cs.EARLY_REDEMPTION_OBSERVATION_DATES:\n",
    "    plt.axvline(x = date, c = \"green\", alpha = 0.5)\n",
    "\n"
   ]
  },
  {
   "cell_type": "code",
   "execution_count": null,
   "metadata": {},
   "outputs": [],
   "source": [
    "#Entire process\n",
    "\n",
    "first_date = pd.Timestamp('2023-08-09')\n",
    "last_date = pd.Timestamp('2023-11-09')\n",
    "\n",
    "#load simulated paths from csvs\n",
    "total_data = yqsm.read_sim_data('gbm', '20231114_031302_63', first_date, last_date)\n",
    "\n",
    "est_price = []\n",
    "for single_day in total_data:\n",
    "    #rename columns\n",
    "    df_sim_array = []\n",
    "    for df in single_day:\n",
    "        df_sim_array.append(df.rename(columns={'LONN.SW': 'LONN.SE', 'SIKA.SW': 'SIKA.SE'}))\n",
    "    \n",
    "    prices = po.pricing_multiple(df_sim_array)\n",
    "    est_price.append(sum(prices) / len(prices))\n",
    "print(est_price)\n",
    "\n",
    "\n"
   ]
  },
  {
   "cell_type": "code",
   "execution_count": null,
   "metadata": {},
   "outputs": [],
   "source": [
    "df_product = po.get_product_price(pd.Timestamp('2023-11-09'))\n",
    "df_product = df_product.loc[first_date : last_date]\n",
    "df_product['Est_Price'] = est_price\n",
    "\n",
    "plt.plot(df_product)"
   ]
  },
  {
   "cell_type": "code",
   "execution_count": null,
   "metadata": {},
   "outputs": [],
   "source": [
    "first_date = pd.Timestamp('2023-08-09')\n",
    "last_date = pd.Timestamp('2023-11-09')\n",
    "\n",
    "total_data = yqsm.read_sim_data('gbm', '20231114_031302_63', first_date, last_date)\n",
    "\n",
    "#df_sim = total_data[0][0][0].rename(columns={'LONN.SW': 'LONN.SE', 'SIKA.SW': 'SIKA.SE'})\n",
    "#df_sim_arr = total_data[0][0]\n"
   ]
  },
  {
   "cell_type": "code",
   "execution_count": null,
   "metadata": {},
   "outputs": [],
   "source": [
    "# entire pricing window\n",
    "\n",
    "prices = []\n",
    "deltas = {'LONN.SE': [], 'SIKA.SE': []}\n",
    "gammas = {'LONN.SE': [], 'SIKA.SE': []}\n",
    "for single_day in total_data[0]:\n",
    "    #rename columns\n",
    "    df_sim_array = []\n",
    "    for df in single_day:\n",
    "        df_sim_array.append(df.rename(columns={'LONN.SW': 'LONN.SE', 'SIKA.SW': 'SIKA.SE'}))\n",
    "    \n",
    "    results = po.pricing_with_greeks_multiple(df_sim_array, 0.001)\n",
    "    price_sum = 0\n",
    "    greeks_sum = {'LONN.SE': [0, 0], 'SIKA.SE': [0, 0]}\n",
    "    for sim in results:\n",
    "        price_sum += sim[0]\n",
    "        for asset in cs.ASSET_NAMES:\n",
    "            greeks_sum[asset][0] += sim[1][asset][0]\n",
    "            greeks_sum[asset][1] += sim[1][asset][1]\n",
    "    est_price = price_sum / len(results)\n",
    "    for asset in cs.ASSET_NAMES:\n",
    "        deltas[asset].append(greeks_sum[asset][0] / len(results))\n",
    "        gammas[asset].append(greeks_sum[asset][1] / len(results))\n",
    "    prices.append(est_price)\n"
   ]
  },
  {
   "cell_type": "code",
   "execution_count": null,
   "metadata": {},
   "outputs": [],
   "source": [
    "print(prices)\n",
    "df_product = po.get_product_price(pd.Timestamp('2023-11-09'))\n",
    "df_product = df_product.loc[first_date : last_date]\n",
    "df_product['Est_Price'] = prices\n",
    "\n",
    "plt.plot(df_product)"
   ]
  },
  {
   "cell_type": "code",
   "execution_count": null,
   "metadata": {},
   "outputs": [],
   "source": [
    "df_deltas = pd.DataFrame(index = df_product.index, data = deltas)\n",
    "\n",
    "plt.figure(figsize = [10, 6])\n",
    "plt.axvline(x = pd.Timestamp('2023-10-23'), color = 'red')\n",
    "plt.axhline(y = 0, color = 'black')\n",
    "plt.axvline(x = pd.Timestamp('2023-09-18'), color = 'pink')\n",
    "plt.plot(df_deltas)"
   ]
  },
  {
   "cell_type": "code",
   "execution_count": null,
   "metadata": {},
   "outputs": [],
   "source": [
    "df_gammas = pd.DataFrame(index = df_product.index, data = gammas)\n",
    "\n",
    "plt.figure(figsize = [10, 6])\n",
    "plt.axvline(x = pd.Timestamp('2023-10-23'), color = 'red')\n",
    "plt.axhline(y = 0, color = 'black')\n",
    "plt.axvline(x = pd.Timestamp('2023-09-18'), color = 'pink')\n",
    "plt.plot(df_gammas)"
   ]
  },
  {
   "cell_type": "code",
   "execution_count": null,
   "metadata": {},
   "outputs": [],
   "source": [
    "df_historical = po.get_historical_assets(cs.FINAL_FIXING_DATE, first_date)\n",
    "today = df_historical.index[-1]\n",
    "barrierHit = po.checkBarrier(df_historical)\n",
    "\n",
    "for asset in cs.ASSET_NAMES:\n",
    "    df_historical[asset] = df_historical[asset] / cs.INITIAL_LEVELS[asset]\n",
    "\n",
    "plt.figure(figsize = [10, 6])\n",
    "plt.axhline(y = 1)\n",
    "plt.axhline(y = 0.6)\n",
    "plt.plot(df_historical)"
   ]
  },
  {
   "cell_type": "code",
   "execution_count": null,
   "metadata": {},
   "outputs": [],
   "source": [
    "first_date = pd.Timestamp('2023-08-09')\n",
    "last_date = pd.Timestamp('2023-08-12')\n",
    "\n",
    "total_data = yqsm.read_sim_data('gbm', '20231111_195045_022812', first_date, last_date)\n",
    "\n",
    "df_sim = total_data[0][0][0].rename(columns={'LONN.SW': 'LONN.SE', 'SIKA.SW': 'SIKA.SE'})\n",
    "df_sim_arr = total_data[0][0]\n",
    "\n",
    "df_constant = pd.DataFrame(index = df_sim.index)"
   ]
  },
  {
   "cell_type": "code",
   "execution_count": null,
   "metadata": {},
   "outputs": [],
   "source": [
    "#print(total_data[0][0][0])\n",
    "\n",
    "#df_sim = total_data[0][0][0].rename(columns={'LONN.SW': 'LONN.SE', 'SIKA.SW': 'SIKA.SE'})\n",
    "#df_sim_arr = total_data[0][0]\n",
    "\n",
    "first_sim_date = df_sim.first_valid_index()\n",
    "df_historical = po.get_historical_assets(first_sim_date, cs.INITIAL_FIXING_DATE)\n",
    "today = df_historical.index[-1]\n",
    "barrierHit = po.checkBarrier(df_historical)\n",
    "\n",
    "print(barrierHit)\n",
    "\n",
    "df_constant = pd.DataFrame(index = df_sim.index, data = {'LONN.SE': [cs.INITIAL_LEVELS['LONN.SE'] * 0.95] * len(df_sim), 'SIKA.SE': [cs.INITIAL_LEVELS['SIKA.SE'] * 0.95] * len(df_sim)})\n",
    "#print(df_constant)\n",
    "\n",
    "payouts_arr = po.payouts_h(df_constant, barrierHit, 0.01, 'LONN.SE')\n",
    "print(payouts_arr)"
   ]
  },
  {
   "cell_type": "code",
   "execution_count": null,
   "metadata": {},
   "outputs": [],
   "source": [
    "rnv_arr = po.rnv_multiple(payouts_arr, today)\n",
    "print(rnv_arr)\n",
    "print(po.delta(rnv_arr, 0.01))\n",
    "print(po.gamma(rnv_arr, 0.01))"
   ]
  },
  {
   "cell_type": "code",
   "execution_count": null,
   "metadata": {},
   "outputs": [],
   "source": [
    "#product price upper bound\n",
    "\n",
    "df_constant = pd.DataFrame(index = df_sim.index, data = {'LONN.SE': [cs.INITIAL_LEVELS['LONN.SE'] * 0.95] * len(df_sim), 'SIKA.SE': [cs.INITIAL_LEVELS['SIKA.SE'] * 0.95] * len(df_sim)})\n",
    "#print(df_constant)\n",
    "#display(df_new)\n",
    "#print(po.payouts(df_new, False))\n",
    "dict_upper_bound = {}\n",
    "today = pd.Timestamp('2023-08-09')\n",
    "for i in range(67):\n",
    "    df_payouts = po.payouts(df_constant, False)\n",
    "    dict_upper_bound[today] = po.rnv_single(df_payouts, today)\n",
    "    today = df_constant.first_valid_index()\n",
    "    df_constant = df_constant.tail(len(df_constant) - 1)\n",
    "df_upper_bound = pd.DataFrame.from_dict(dict_upper_bound, orient = 'index')\n",
    "df_upper_bound.index.name = 'Date'\n",
    "df_upper_bound.columns = ['Price']\n",
    "print(df_upper_bound)\n"
   ]
  },
  {
   "cell_type": "code",
   "execution_count": 73,
   "metadata": {},
   "outputs": [
    {
     "name": "stdout",
     "output_type": "stream",
     "text": [
      "[969.5923690030505, 984.2207743757805, 990.5630487743467, 976.7104002070903, 983.3203000643206, 997.4387062352808, 953.3594091107491, 941.2641047242605, 955.0786620862184, 967.988844804869, 951.6714752431169, 979.2327565699785, 959.6615388555587, 983.4540833305799, 982.2533418459518, 998.9118568264424, 947.8825239682592, 977.7680382652934, 990.5174633247065, 1001.4301585772184, 1003.577324948565, 983.0673711805233, 972.5246071287688, 1003.7177361468458, 1007.470481047923, 1004.242333228093, 1032.602144329112, 1025.7804191952296, 870.894246091833, 851.6137890848676, 871.8661660120986, 876.2552096008528, 892.2999393555802, 879.8743884947603, 867.4519629983745, 877.6027639339103, 867.3315891736555, 919.5851004955414, 865.8988236915678, 868.3580319980471, 860.6883811709507, 863.1378694355285, 837.2059877653281, 913.5938985868848, 905.3409063205409, 877.9689802613257, 923.3390675328736, 895.812815016821, 870.9030458473417, 727.544221973209, 717.9798110243869, 724.0534226662111, 743.0908687803212, 683.5350231460565, 672.6946582477806, 667.5190932867878, 718.3053631094278, 680.258147871255, 671.0326379808629, 710.141315312198, 639.0013710282461, 708.3663944609211, 690.1158904490605, 679.2858853316917, 708.8724871055304, 700.4356697475954, 750.5952887441262]\n"
     ]
    }
   ],
   "source": [
    "# no autocall\n",
    "\n",
    "def pricing_multiple_no_autocall(df_sim_array):\n",
    "    first_sim_date = df_sim_array[0].first_valid_index()\n",
    "    df_historical = po.get_historical_assets(first_sim_date, cs.INITIAL_FIXING_DATE)\n",
    "    today = df_historical.index[-1]\n",
    "    barrierHit = po.checkBarrier(df_historical)\n",
    "    df_payouts_arr = []\n",
    "    for df_sim in df_sim_array:\n",
    "        df_payouts = po.payouts_no_autocall(df_sim, barrierHit)\n",
    "        df_payouts_arr.append(df_payouts)\n",
    "    rnv_arr = po.rnv_multiple(df_payouts_arr, today)\n",
    "    return rnv_arr\n",
    "\n",
    "first_date = pd.Timestamp('2023-08-09')\n",
    "last_date = pd.Timestamp('2023-11-09')\n",
    "\n",
    "#load simulated paths from csvs\n",
    "total_data = yqsm.read_sim_data('gbm', '20231114_031302_63', first_date, last_date)[0]\n",
    "\n",
    "est_price = []\n",
    "for single_day in total_data:\n",
    "    #rename columns\n",
    "    df_sim_array = []\n",
    "    for df in single_day:\n",
    "        df_sim_array.append(df.rename(columns={'LONN.SW': 'LONN.SE', 'SIKA.SW': 'SIKA.SE'}))\n",
    "    \n",
    "    prices = pricing_multiple_no_autocall(df_sim_array)\n",
    "    est_price.append(sum(prices) / len(prices))\n",
    "print(est_price)"
   ]
  },
  {
   "cell_type": "code",
   "execution_count": null,
   "metadata": {},
   "outputs": [],
   "source": [
    "plt.plot(df_product)\n",
    "plt.plot(df_upper_bound)"
   ]
  }
 ],
 "metadata": {
  "kernelspec": {
   "display_name": "Python 3 (ipykernel)",
   "language": "python",
   "name": "python3"
  },
  "language_info": {
   "codemirror_mode": {
    "name": "ipython",
    "version": 3
   },
   "file_extension": ".py",
   "mimetype": "text/x-python",
   "name": "python",
   "nbconvert_exporter": "python",
   "pygments_lexer": "ipython3",
   "version": "3.10.2"
  }
 },
 "nbformat": 4,
 "nbformat_minor": 5
}
