{
 "cells": [
  {
   "cell_type": "code",
   "execution_count": null,
   "metadata": {},
   "outputs": [],
   "source": [
    "import typing\n",
    "import pandas as pd\n",
    "import numpy as np\n",
    "import matplotlib.pyplot as plt\n",
    "import seaborn as sns\n",
    "import QuantLib as ql\n",
    "import yfinance as yf\n",
    "import pandas_market_calendars as mcal\n",
    "import datetime\n",
    "import time\n",
    "from pathlib import Path\n",
    "import os\n",
    "\n",
    "# Self-written modules\n",
    "from yq.scripts import models\n",
    "from yq.scripts import heston_func\n",
    "from yq.utils import option\n",
    "from yq.utils import calendar\n",
    "from yq.scripts import simulation as sm\n",
    "from sc import constants as cs\n",
    "from sy.variance_reduction import apply_control_variates\n",
    "from sy.interest_rate import populate_bond_table, get_period\n",
    "from sy.calibration import apply_empirical_martingale_correction"
   ]
  },
  {
   "cell_type": "code",
   "execution_count": null,
   "metadata": {},
   "outputs": [],
   "source": [
    "print(cs.ASSET_NAMES)"
   ]
  },
  {
   "cell_type": "markdown",
   "metadata": {},
   "source": [
    "# Fetch stock data"
   ]
  },
  {
   "cell_type": "code",
   "execution_count": null,
   "metadata": {},
   "outputs": [],
   "source": [
    "historical_start_date = '2022-08-09'\n",
    "# Define the ticker list\n",
    "ticker_list = ['LONN.SW', 'SIKA.SW']\n",
    "\n",
    "# Fetch the data\n",
    "data = yf.download(ticker_list, historical_start_date)['Adj Close'] # Auto adjust is false\n",
    "display(data.tail(20))\n",
    "data.plot()\n",
    "display(data.loc['2023-11-07']['LONN.SW'])\n",
    "\n",
    "plt.figure(figsize=(3,2))\n",
    "sns.heatmap(data.corr(), cmap=\"Reds\", annot=True)\n",
    "plt.show()"
   ]
  },
  {
   "cell_type": "code",
   "execution_count": null,
   "metadata": {},
   "outputs": [],
   "source": [
    "params = {\n",
    "    'data': data,\n",
    "    'ticker_list': ['LONN.SW', 'SIKA.SW']\n",
    "}\n",
    "trading_calendar = calendar.SIXTradingCalendar()\n",
    "gbm = models.PricingModel(params = params)"
   ]
  },
  {
   "cell_type": "code",
   "execution_count": null,
   "metadata": {},
   "outputs": [],
   "source": [
    "# Copy the start_time_str from the folders\n",
    "# product_est_date_sim_data_df_list = sm.read_sim_data(\n",
    "#         model_name='gbm',\n",
    "#         start_time_str='20231110_233950_693680', \n",
    "#         prod_est_start_date=pd.Timestamp('2023-08-09'), \n",
    "#         prod_est_end_date=pd.Timestamp('2023-08-10'))\n",
    "# print(type(product_est_date_sim_data_df_list)[0])\n",
    "# n_sim_on_day = pd.concat(product_est_date_sim_data_df_list[0], axis=1)\n",
    "# ax = n_sim_on_day.plot(alpha=0.6, legend=False)\n",
    "# ax.figure.show()\n"
   ]
  },
  {
   "cell_type": "markdown",
   "metadata": {},
   "source": [
    "# Testing diff h"
   ]
  },
  {
   "cell_type": "code",
   "execution_count": null,
   "metadata": {},
   "outputs": [],
   "source": [
    "bus_date_range = trading_calendar.create_six_trading_dates('2023-08-09', '2023-08-09')\n",
    "# display(bus_date_range)\n",
    "# print(bus_date_range.index.to_list())\n",
    "start_time_acc = datetime.datetime.now() # Track the nth attempt\n",
    "print(start_time_acc)\n",
    "n_sim = 1\n",
    "for product_est_date in bus_date_range.index:\n",
    "    try:\n",
    "        start_time = time.time()\n",
    "\n",
    "        sim_data_df = []\n",
    "        for sim in range(n_sim):\n",
    "            sim_start_date = trading_calendar.add_trading_day(product_est_date, 1)\n",
    "            \n",
    "            sim_data = gbm.multi_asset_gbm(\n",
    "                sim_start_date=sim_start_date, \n",
    "                hist_window=252, \n",
    "                sim_window=trading_calendar.calculate_business_days(sim_start_date, cs.FINAL_FIXING_DATE), \n",
    "                h_adjustment=[0, 0])\n",
    "\n",
    "            sim_data_h = gbm.multi_asset_gbm(\n",
    "                sim_start_date=sim_start_date, \n",
    "                hist_window=252, \n",
    "                sim_window=trading_calendar.calculate_business_days(sim_start_date, cs.FINAL_FIXING_DATE), \n",
    "                h_adjustment=[1000, 0])\n",
    "        end_time = time.time()\n",
    "        elapsed_time = end_time - start_time\n",
    "        min, sec = divmod(elapsed_time, 60)\n",
    "        print(f\"The elapsed time is for {n_sim} is {int(min)} minutes, {int(sec)} seconds\")\n",
    "        \n",
    "        S_T_1 = sim_data.loc[cs.FINAL_FIXING_DATE, 'LONN.SW']\n",
    "        S_T_2 = sim_data_h.loc[cs.FINAL_FIXING_DATE,'LONN.SW']\n",
    "        print(S_T_1 / S_T_2)\n",
    "        \n",
    "    except Exception as e:\n",
    "        # Log the error with the date that caused it\n",
    "        raise Exception(\"MultiGBM has error.\")\n"
   ]
  },
  {
   "cell_type": "code",
   "execution_count": null,
   "metadata": {},
   "outputs": [],
   "source": [
    "print(489/1489)\n"
   ]
  },
  {
   "cell_type": "code",
   "execution_count": null,
   "metadata": {},
   "outputs": [],
   "source": [
    "params = {\n",
    "    'data': data,\n",
    "    'ticker_list': ['LONN.SW', 'SIKA.SW']\n",
    "}\n",
    "trading_calendar = calendar.SIXTradingCalendar()\n",
    "heston = models.PricingModel(params = params)"
   ]
  },
  {
   "cell_type": "code",
   "execution_count": null,
   "metadata": {},
   "outputs": [],
   "source": [
    "bus_date_range = trading_calendar.create_six_trading_dates('2023-08-09', '2023-08-09')\n",
    "# display(bus_date_range)\n",
    "# print(bus_date_range.index.to_list())\n",
    "start_time_acc = datetime.datetime.now() # Track the nth attempt\n",
    "print(start_time_acc)\n",
    "n_sim = 1\n",
    "for product_est_date in bus_date_range.index:\n",
    "    try:\n",
    "        start_time = time.time()\n",
    "\n",
    "        sim_data_df = []\n",
    "        for sim in range(n_sim):\n",
    "            sim_start_date = trading_calendar.add_trading_day(product_est_date, 1)\n",
    "            \n",
    "            sim_data = heston.multi_asset_heston_model(\n",
    "                sim_start_date=sim_start_date, \n",
    "                hist_window=252, \n",
    "                sim_window=trading_calendar.calculate_business_days(sim_start_date, cs.FINAL_FIXING_DATE), \n",
    "                h_adjustment=[0, 0])\n",
    "\n",
    "            sim_data_h = heston.multi_asset_heston_model(\n",
    "                sim_start_date=sim_start_date, \n",
    "                hist_window=252, \n",
    "                sim_window=trading_calendar.calculate_business_days(sim_start_date, cs.FINAL_FIXING_DATE), \n",
    "                h_adjustment=[1, 0])\n",
    "        end_time = time.time()\n",
    "        elapsed_time = end_time - start_time\n",
    "        min, sec = divmod(elapsed_time, 60)\n",
    "        print(f\"The elapsed time is for {n_sim} is {int(min)} minutes, {int(sec)} seconds\")\n",
    "        \n",
    "        S_T_1 = sim_data.loc[cs.FINAL_FIXING_DATE, 'LONN.SW']\n",
    "        S_T_2 = sim_data_h.loc[cs.FINAL_FIXING_DATE,'LONN.SW']\n",
    "        print(S_T_1 / S_T_2)\n",
    "        \n",
    "    except Exception as e:\n",
    "        # Log the error with the date that caused it\n",
    "        raise Exception(\"MultiGBM has error.\")\n"
   ]
  },
  {
   "cell_type": "code",
   "execution_count": null,
   "metadata": {},
   "outputs": [],
   "source": [
    "489/490\n"
   ]
  },
  {
   "cell_type": "code",
   "execution_count": null,
   "metadata": {},
   "outputs": [],
   "source": [
    "display(sim_data)\n",
    "display(sim_data_h)"
   ]
  },
  {
   "cell_type": "code",
   "execution_count": null,
   "metadata": {},
   "outputs": [],
   "source": [
    "print(355/1404.907)"
   ]
  },
  {
   "cell_type": "code",
   "execution_count": null,
   "metadata": {},
   "outputs": [],
   "source": [
    "0.32840832773673606"
   ]
  },
  {
   "cell_type": "markdown",
   "metadata": {},
   "source": [
    "# Normal sims"
   ]
  },
  {
   "cell_type": "code",
   "execution_count": null,
   "metadata": {},
   "outputs": [],
   "source": [
    "bus_date_range = trading_calendar.create_six_trading_dates('2023-08-09', '2023-08-09')\n",
    "# display(bus_date_range)\n",
    "# print(bus_date_range.index.to_list())\n",
    "start_time_acc = datetime.datetime.now() # Track the nth attempt\n",
    "print(start_time_acc)\n",
    "n_sim = 1\n",
    "for product_est_date in bus_date_range.index:\n",
    "    try:\n",
    "        start_time = time.time()\n",
    "\n",
    "        sim_data_df = []\n",
    "        for sim in range(n_sim):\n",
    "            sim_start_date = trading_calendar.add_trading_day(product_est_date, 1)\n",
    "            \n",
    "            sim_data = gbm.multi_asset_gbm(\n",
    "                sim_start_date=sim_start_date, \n",
    "                hist_window=252, \n",
    "                sim_window=trading_calendar.calculate_business_days(sim_start_date, cs.FINAL_FIXING_DATE), \n",
    "                h_adjustment=[0, 0])\n",
    "            sim_data_df.append(sim_data)\n",
    "            \n",
    "            sm.store_sim_data(start_time_acc=start_time_acc,\n",
    "                           model_name='gbm',\n",
    "                           sim_data=sim_data,\n",
    "                           product_est_date=product_est_date,\n",
    "                           sim=sim)\n",
    "\n",
    "        end_time = time.time()\n",
    "        elapsed_time = end_time - start_time\n",
    "        min, sec = divmod(elapsed_time, 60)\n",
    "        print(f\"The elapsed time is for {n_sim} is {int(min)} minutes, {int(sec)} seconds\")\n",
    "        \n",
    "    except Exception as e:\n",
    "        # Log the error with the date that caused it\n",
    "        raise Exception(\"MultiGBM has error.\")\n",
    "    \n",
    "    \n",
    "    # TODO: Tag the sim_data with the dates\n",
    "    # TODO: Add the concate the yfinance data from initial fixing date to the sim_data\n",
    "    # TODO: Break the df into 2 df, each with date as one of the columns (not the index) for sc payoff function\n",
    "    # Get the data?\n",
    "\n",
    "    \n",
    "    # TODO: Store the payoff df to the class and plot?\n",
    "\n",
    "# TODO: Implement the second simulation with the control variate method? Another loop or same loop?\n",
    "\n",
    "# sim_data.columns = [\"simulated_\" + ticker for ticker in ticker_list]\n",
    "\n",
    "# A dataframe with both validation data and simulated data\n"
   ]
  },
  {
   "cell_type": "code",
   "execution_count": null,
   "metadata": {},
   "outputs": [],
   "source": [
    "sim_data_df"
   ]
  },
  {
   "cell_type": "code",
   "execution_count": null,
   "metadata": {},
   "outputs": [],
   "source": [
    "# generate bond table\n",
    "path = '../data/bond'\n",
    "\n",
    "bond_yield = None\n",
    "for file in os.listdir(path):\n",
    "   df = pd.read_csv(os.path.join(path, file))[['Date','Price']]\n",
    "   df.rename(columns={'Price':file.split(' ')[1]}, inplace=True)\n",
    "   df['Date'] = pd.to_datetime(df['Date'],format='%m/%d/%Y')\n",
    "   df = df.set_index('Date').iloc[::-1]\n",
    "   if bond_yield is None:\n",
    "      bond_yield = df\n",
    "   else:\n",
    "      bond_yield = pd.concat([bond_yield, df], axis=1)\n",
    "bond_yield = bond_yield.interpolate()\n",
    "bond_yield = bond_yield.reindex(sorted(bond_yield.columns, key=lambda x: get_period(x)), axis=1) # sort index\n",
    "bond_price = pd.DataFrame(index=bond_yield.index)\n",
    "for col in bond_yield.columns:\n",
    "    bond_price[col] = bond_yield[col].apply(lambda x: np.exp(-x/100*get_period(col)))\n",
    "bond_price"
   ]
  },
  {
   "cell_type": "code",
   "execution_count": null,
   "metadata": {},
   "outputs": [],
   "source": [
    "sim_data = gbm.adjust_interest_rate(bond_price, sim_data_df[0])\n",
    "sim_data"
   ]
  },
  {
   "cell_type": "code",
   "execution_count": null,
   "metadata": {},
   "outputs": [],
   "source": [
    "# Variance reduction\n",
    "today = pd.Timestamp('2023-08-09')\n",
    "r = 0.0167\n",
    "# calculate means\n",
    "s_01  = 1\n",
    "s_02 = 1.2\n",
    "mu1 = s_01 * np.exp(r*(cs.FINAL_FIXING_DATE - today).days/252)\n",
    "mu2 = s_02 * np.exp(r*(cs.FINAL_FIXING_DATE  - today).days/252)\n",
    "print(mu1, mu2)\n"
   ]
  },
  {
   "cell_type": "code",
   "execution_count": null,
   "metadata": {},
   "outputs": [],
   "source": [
    "# TODO pass me ST for lonn and sika as well as payoffs\n",
    "# payoffs_cv = apply_control_variates(__place_holder__, __place_holder__, mu1, mu2, payoffs)"
   ]
  }
 ],
 "metadata": {
  "kernelspec": {
   "display_name": "Python 3",
   "language": "python",
   "name": "python3"
  },
  "language_info": {
   "codemirror_mode": {
    "name": "ipython",
    "version": 3
   },
   "file_extension": ".py",
   "mimetype": "text/x-python",
   "name": "python",
   "nbconvert_exporter": "python",
   "pygments_lexer": "ipython3",
   "version": "3.11.6"
  }
 },
 "nbformat": 4,
 "nbformat_minor": 2
}
